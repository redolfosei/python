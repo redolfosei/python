{
 "cells": [
  {
   "cell_type": "code",
   "execution_count": 31,
   "metadata": {},
   "outputs": [
    {
     "name": "stdout",
     "output_type": "stream",
     "text": [
      "1 4 8\n"
     ]
    },
    {
     "data": {
      "text/plain": [
       "array([ 31, 117, 119,  20])"
      ]
     },
     "execution_count": 31,
     "metadata": {},
     "output_type": "execute_result"
    }
   ],
   "source": [
    "#Numpy Arrays \n",
    "\n",
    "import sys\n",
    "import numpy as np\n",
    "a = np.array([1,2,3,4,5,6,6,7,8])\n",
    "\n",
    "print(a[0],a[3],a[-1])\n",
    "\n",
    "a[[0,2,-1]]\n",
    "\n",
    "a.dtype\n",
    "\n",
    "B = np.array([\n",
    "    [1,2,3,4],\n",
    "    [4,5,6,7]\n",
    "])\n",
    "\n",
    "B.shape\n",
    "B.ndim\n",
    "B.size\n",
    "\n",
    "C = np.array([\n",
    "    [\n",
    "        [1,2,3,4],\n",
    "        [12,90,32,4]\n",
    "    ],\n",
    "    [\n",
    "        [12,45,21,4],\n",
    "        [14,65,89,5]\n",
    "    ]\n",
    "])\n",
    "\n",
    "C.shape\n",
    "C.ndim\n",
    "C.size\n",
    "C.dtype\n",
    "\n",
    "D = np.array([\n",
    "    [1,2,3,4],\n",
    "    [4,5,6,7],\n",
    "    [12,45,21,4],\n",
    "    [14,65,89,5]\n",
    "])\n",
    "\n",
    "D[2]\n",
    "\n",
    "#Get the first element of the first row.\n",
    "D[1][0]\n",
    "D.sum(axis=0)\n",
    "\n"
   ]
  }
 ],
 "metadata": {
  "kernelspec": {
   "display_name": "Python 3",
   "language": "python",
   "name": "python3"
  },
  "language_info": {
   "codemirror_mode": {
    "name": "ipython",
    "version": 3
   },
   "file_extension": ".py",
   "mimetype": "text/x-python",
   "name": "python",
   "nbconvert_exporter": "python",
   "pygments_lexer": "ipython3",
   "version": "3.9.6"
  },
  "orig_nbformat": 4
 },
 "nbformat": 4,
 "nbformat_minor": 2
}
